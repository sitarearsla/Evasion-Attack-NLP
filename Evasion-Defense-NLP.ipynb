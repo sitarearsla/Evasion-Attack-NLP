{
 "cells": [
  {
   "cell_type": "code",
   "execution_count": 1,
   "id": "aecd0a94",
   "metadata": {},
   "outputs": [],
   "source": [
    "# !pip install transformers textattack textblob\n",
    "# !python -m textblob.download_corpora"
   ]
  },
  {
   "cell_type": "code",
   "execution_count": 8,
   "id": "a3a6b359",
   "metadata": {},
   "outputs": [
    {
     "name": "stderr",
     "output_type": "stream",
     "text": [
      "/home/sitare/anaconda3/lib/python3.9/site-packages/huggingface_hub/file_download.py:1150: FutureWarning: `resume_download` is deprecated and will be removed in version 1.0.0. Downloads always resume when possible. If you want to force a new download, use `force_download=True`.\n",
      "  warnings.warn(\n"
     ]
    }
   ],
   "source": [
    "from textblob import TextBlob\n",
    "from transformers import pipeline\n",
    "\n",
    "# Spelling correction\n",
    "def correct_spelling(text):\n",
    "    return str(TextBlob(text).correct())\n",
    "\n",
    "# Language model purification (e.g., FLAN-T5)\n",
    "generator = pipeline(\"text2text-generation\", model=\"google/flan-t5-small\")\n",
    "\n",
    "def purify_text(text):\n",
    "    prompt = f\"Correct and rewrite the sentence: {text}\"\n",
    "    result = generator(prompt, max_length=100, do_sample=False)\n",
    "    return result[0]['generated_text']\n",
    "\n",
    "# Combine both\n",
    "def purify_pipeline(text):\n",
    "    corrected = correct_spelling(text)\n",
    "    purified = purify_text(corrected)\n",
    "    return purified\n"
   ]
  },
  {
   "cell_type": "code",
   "execution_count": 15,
   "id": "f03671c0",
   "metadata": {},
   "outputs": [],
   "source": [
    "from transformers import AutoTokenizer, AutoModelForSequenceClassification\n",
    "import torch\n",
    "import pandas as pd\n",
    "from tabulate import tabulate\n",
    "\n",
    "def evaluate(dataset_name, model_type, attack_type):\n",
    "    df = pd.read_csv(f\"{model_type}_{dataset_name}_{attack_type}_attack.csv\")\n",
    "    purified_csv = f\"{model_type}_{dataset_name}_{attack_type}_defense.csv\"\n",
    "    \n",
    "    adv_texts = []\n",
    "    purified_texts = []\n",
    "    pred_labels = []\n",
    "    true_labels = []\n",
    "    recovery_flags = []\n",
    "\n",
    "    model_name = {\n",
    "        (\"bert\", \"imdb\"): \"textattack/bert-base-uncased-imdb\",\n",
    "        (\"bert\", \"sst2\"): \"textattack/bert-base-uncased-SST-2\",\n",
    "        (\"roberta\", \"imdb\"): \"textattack/roberta-base-imdb\",\n",
    "        (\"roberta\", \"sst2\"): \"textattack/roberta-base-SST-2\"\n",
    "    }[(model_type, dataset_name)]\n",
    "\n",
    "    tokenizer = AutoTokenizer.from_pretrained(model_name)\n",
    "    model = AutoModelForSequenceClassification.from_pretrained(model_name)\n",
    "    model.eval()\n",
    "\n",
    "    total = len(df)\n",
    "    successful_attacks = df[\"result_type\"].value_counts().get(\"Successful\", 0)\n",
    "\n",
    "    recovered = 0\n",
    "    for _, row in df.iterrows():\n",
    "        if row[\"result_type\"] != \"Successful\":\n",
    "            continue\n",
    "\n",
    "        adv_text = row[\"perturbed_text\"]\n",
    "        true_label = row[\"ground_truth_output\"]\n",
    "\n",
    "        purified_text = purify_pipeline(adv_text)\n",
    "\n",
    "        inputs = tokenizer(purified_text, return_tensors=\"pt\", truncation=True)\n",
    "        with torch.no_grad():\n",
    "            logits = model(**inputs).logits\n",
    "            pred_label = logits.argmax(dim=-1).item()\n",
    "\n",
    "        if str(pred_label) == str(true_label):\n",
    "            recovered += 1\n",
    "        \n",
    "        adv_texts.append(adv_text)\n",
    "        purified_texts.append(purified_text)\n",
    "        pred_labels.append(pred_label)\n",
    "        true_labels.append(true_label)\n",
    "        recovery_flags.append(str(pred_label) == str(true_label))\n",
    "        \n",
    "    purified_df = pd.DataFrame({\n",
    "                    \"adv_text\": adv_texts,\n",
    "                    \"purified_text\": purified_texts,\n",
    "                    \"predicted_label\": pred_labels,\n",
    "                    \"true_label\": true_labels,\n",
    "                    \"recovered\": recovery_flags\n",
    "                })\n",
    "    \n",
    "    purified_df.to_csv(purified_csv, index=False)\n",
    "\n",
    "    recovery_rate = recovered / successful_attacks if successful_attacks > 0 else 0.0\n",
    "    attack_success_rate = successful_attacks / total if total > 0 else 0.0\n",
    "    post_attack_accuracy = 1 - attack_success_rate\n",
    "    post_purification_accuracy = (total - successful_attacks + recovered) / total\n",
    "\n",
    "    table = [\n",
    "        [\"Total Attacked Examples\", total],\n",
    "        [\"Successful Adversarial Attacks\", successful_attacks],\n",
    "        [\"Recovered After Purification\", recovered],\n",
    "        [\"Model Accuracy After Attack\", f\"{post_attack_accuracy:.2%}\"],\n",
    "        [\"Model Accuracy After Purification\", f\"{post_purification_accuracy:.2%}\"],\n",
    "        [\"Purification Recovery Rate\", f\"{recovery_rate:.2%}\"]\n",
    "    ]\n",
    "\n",
    "    print(tabulate(table, headers=[\"Metric\", \"Value\"], tablefmt=\"grid\"))\n"
   ]
  },
  {
   "cell_type": "code",
   "execution_count": 16,
   "id": "818d3dcf",
   "metadata": {},
   "outputs": [],
   "source": [
    "def run_all_evasion_and_purification():\n",
    "    model_types = [\"bert\", \"roberta\"]\n",
    "    dataset_names = [\"imdb\", \"sst2\"]\n",
    "    attack_types = [\"pwws\", \"textfooler\"]\n",
    "\n",
    "    for model_type in model_types:\n",
    "        for dataset_name in dataset_names:\n",
    "            for attack_type in attack_types:\n",
    "                print(f\"\\n=== Running: {attack_type.upper()} for {model_type.upper()} on {dataset_name.upper()} ===\")\n",
    "                evaluate(dataset_name, model_type, attack_type)\n",
    "            \n"
   ]
  },
  {
   "cell_type": "code",
   "execution_count": 17,
   "id": "f6ef9480",
   "metadata": {},
   "outputs": [
    {
     "name": "stdout",
     "output_type": "stream",
     "text": [
      "\n",
      "=== Running: PWWS for BERT on IMDB ===\n"
     ]
    },
    {
     "name": "stderr",
     "output_type": "stream",
     "text": [
      "/home/sitare/anaconda3/lib/python3.9/site-packages/huggingface_hub/file_download.py:1150: FutureWarning: `resume_download` is deprecated and will be removed in version 1.0.0. Downloads always resume when possible. If you want to force a new download, use `force_download=True`.\n",
      "  warnings.warn(\n"
     ]
    },
    {
     "name": "stdout",
     "output_type": "stream",
     "text": [
      "+-----------------------------------+---------+\n",
      "| Metric                            | Value   |\n",
      "+===================================+=========+\n",
      "| Total Attacked Examples           | 20      |\n",
      "+-----------------------------------+---------+\n",
      "| Successful Adversarial Attacks    | 18      |\n",
      "+-----------------------------------+---------+\n",
      "| Recovered After Purification      | 13      |\n",
      "+-----------------------------------+---------+\n",
      "| Model Accuracy After Attack       | 10.00%  |\n",
      "+-----------------------------------+---------+\n",
      "| Model Accuracy After Purification | 75.00%  |\n",
      "+-----------------------------------+---------+\n",
      "| Purification Recovery Rate        | 72.22%  |\n",
      "+-----------------------------------+---------+\n",
      "\n",
      "=== Running: TEXTFOOLER for BERT on IMDB ===\n"
     ]
    },
    {
     "name": "stderr",
     "output_type": "stream",
     "text": [
      "/home/sitare/anaconda3/lib/python3.9/site-packages/huggingface_hub/file_download.py:1150: FutureWarning: `resume_download` is deprecated and will be removed in version 1.0.0. Downloads always resume when possible. If you want to force a new download, use `force_download=True`.\n",
      "  warnings.warn(\n"
     ]
    },
    {
     "name": "stdout",
     "output_type": "stream",
     "text": [
      "+-----------------------------------+---------+\n",
      "| Metric                            | Value   |\n",
      "+===================================+=========+\n",
      "| Total Attacked Examples           | 20      |\n",
      "+-----------------------------------+---------+\n",
      "| Successful Adversarial Attacks    | 18      |\n",
      "+-----------------------------------+---------+\n",
      "| Recovered After Purification      | 12      |\n",
      "+-----------------------------------+---------+\n",
      "| Model Accuracy After Attack       | 10.00%  |\n",
      "+-----------------------------------+---------+\n",
      "| Model Accuracy After Purification | 70.00%  |\n",
      "+-----------------------------------+---------+\n",
      "| Purification Recovery Rate        | 66.67%  |\n",
      "+-----------------------------------+---------+\n",
      "\n",
      "=== Running: PWWS for BERT on SST2 ===\n"
     ]
    },
    {
     "name": "stderr",
     "output_type": "stream",
     "text": [
      "/home/sitare/anaconda3/lib/python3.9/site-packages/huggingface_hub/file_download.py:1150: FutureWarning: `resume_download` is deprecated and will be removed in version 1.0.0. Downloads always resume when possible. If you want to force a new download, use `force_download=True`.\n",
      "  warnings.warn(\n"
     ]
    },
    {
     "name": "stdout",
     "output_type": "stream",
     "text": [
      "+-----------------------------------+---------+\n",
      "| Metric                            | Value   |\n",
      "+===================================+=========+\n",
      "| Total Attacked Examples           | 20      |\n",
      "+-----------------------------------+---------+\n",
      "| Successful Adversarial Attacks    | 18      |\n",
      "+-----------------------------------+---------+\n",
      "| Recovered After Purification      | 11      |\n",
      "+-----------------------------------+---------+\n",
      "| Model Accuracy After Attack       | 10.00%  |\n",
      "+-----------------------------------+---------+\n",
      "| Model Accuracy After Purification | 65.00%  |\n",
      "+-----------------------------------+---------+\n",
      "| Purification Recovery Rate        | 61.11%  |\n",
      "+-----------------------------------+---------+\n",
      "\n",
      "=== Running: TEXTFOOLER for BERT on SST2 ===\n"
     ]
    },
    {
     "name": "stderr",
     "output_type": "stream",
     "text": [
      "/home/sitare/anaconda3/lib/python3.9/site-packages/huggingface_hub/file_download.py:1150: FutureWarning: `resume_download` is deprecated and will be removed in version 1.0.0. Downloads always resume when possible. If you want to force a new download, use `force_download=True`.\n",
      "  warnings.warn(\n"
     ]
    },
    {
     "name": "stdout",
     "output_type": "stream",
     "text": [
      "+-----------------------------------+---------+\n",
      "| Metric                            | Value   |\n",
      "+===================================+=========+\n",
      "| Total Attacked Examples           | 20      |\n",
      "+-----------------------------------+---------+\n",
      "| Successful Adversarial Attacks    | 18      |\n",
      "+-----------------------------------+---------+\n",
      "| Recovered After Purification      | 12      |\n",
      "+-----------------------------------+---------+\n",
      "| Model Accuracy After Attack       | 10.00%  |\n",
      "+-----------------------------------+---------+\n",
      "| Model Accuracy After Purification | 70.00%  |\n",
      "+-----------------------------------+---------+\n",
      "| Purification Recovery Rate        | 66.67%  |\n",
      "+-----------------------------------+---------+\n",
      "\n",
      "=== Running: PWWS for ROBERTA on IMDB ===\n"
     ]
    },
    {
     "name": "stderr",
     "output_type": "stream",
     "text": [
      "/home/sitare/anaconda3/lib/python3.9/site-packages/huggingface_hub/file_download.py:1150: FutureWarning: `resume_download` is deprecated and will be removed in version 1.0.0. Downloads always resume when possible. If you want to force a new download, use `force_download=True`.\n",
      "  warnings.warn(\n",
      "Some weights of the model checkpoint at textattack/roberta-base-imdb were not used when initializing RobertaForSequenceClassification: ['roberta.pooler.dense.bias', 'roberta.pooler.dense.weight']\n",
      "- This IS expected if you are initializing RobertaForSequenceClassification from the checkpoint of a model trained on another task or with another architecture (e.g. initializing a BertForSequenceClassification model from a BertForPreTraining model).\n",
      "- This IS NOT expected if you are initializing RobertaForSequenceClassification from the checkpoint of a model that you expect to be exactly identical (initializing a BertForSequenceClassification model from a BertForSequenceClassification model).\n"
     ]
    },
    {
     "name": "stdout",
     "output_type": "stream",
     "text": [
      "+-----------------------------------+---------+\n",
      "| Metric                            | Value   |\n",
      "+===================================+=========+\n",
      "| Total Attacked Examples           | 20      |\n",
      "+-----------------------------------+---------+\n",
      "| Successful Adversarial Attacks    | 18      |\n",
      "+-----------------------------------+---------+\n",
      "| Recovered After Purification      | 8       |\n",
      "+-----------------------------------+---------+\n",
      "| Model Accuracy After Attack       | 10.00%  |\n",
      "+-----------------------------------+---------+\n",
      "| Model Accuracy After Purification | 50.00%  |\n",
      "+-----------------------------------+---------+\n",
      "| Purification Recovery Rate        | 44.44%  |\n",
      "+-----------------------------------+---------+\n",
      "\n",
      "=== Running: TEXTFOOLER for ROBERTA on IMDB ===\n"
     ]
    },
    {
     "name": "stderr",
     "output_type": "stream",
     "text": [
      "/home/sitare/anaconda3/lib/python3.9/site-packages/huggingface_hub/file_download.py:1150: FutureWarning: `resume_download` is deprecated and will be removed in version 1.0.0. Downloads always resume when possible. If you want to force a new download, use `force_download=True`.\n",
      "  warnings.warn(\n",
      "Some weights of the model checkpoint at textattack/roberta-base-imdb were not used when initializing RobertaForSequenceClassification: ['roberta.pooler.dense.bias', 'roberta.pooler.dense.weight']\n",
      "- This IS expected if you are initializing RobertaForSequenceClassification from the checkpoint of a model trained on another task or with another architecture (e.g. initializing a BertForSequenceClassification model from a BertForPreTraining model).\n",
      "- This IS NOT expected if you are initializing RobertaForSequenceClassification from the checkpoint of a model that you expect to be exactly identical (initializing a BertForSequenceClassification model from a BertForSequenceClassification model).\n"
     ]
    },
    {
     "name": "stdout",
     "output_type": "stream",
     "text": [
      "+-----------------------------------+---------+\n",
      "| Metric                            | Value   |\n",
      "+===================================+=========+\n",
      "| Total Attacked Examples           | 20      |\n",
      "+-----------------------------------+---------+\n",
      "| Successful Adversarial Attacks    | 18      |\n",
      "+-----------------------------------+---------+\n",
      "| Recovered After Purification      | 7       |\n",
      "+-----------------------------------+---------+\n",
      "| Model Accuracy After Attack       | 10.00%  |\n",
      "+-----------------------------------+---------+\n",
      "| Model Accuracy After Purification | 45.00%  |\n",
      "+-----------------------------------+---------+\n",
      "| Purification Recovery Rate        | 38.89%  |\n",
      "+-----------------------------------+---------+\n",
      "\n",
      "=== Running: PWWS for ROBERTA on SST2 ===\n"
     ]
    },
    {
     "name": "stderr",
     "output_type": "stream",
     "text": [
      "/home/sitare/anaconda3/lib/python3.9/site-packages/huggingface_hub/file_download.py:1150: FutureWarning: `resume_download` is deprecated and will be removed in version 1.0.0. Downloads always resume when possible. If you want to force a new download, use `force_download=True`.\n",
      "  warnings.warn(\n",
      "Some weights of the model checkpoint at textattack/roberta-base-SST-2 were not used when initializing RobertaForSequenceClassification: ['roberta.pooler.dense.bias', 'roberta.pooler.dense.weight']\n",
      "- This IS expected if you are initializing RobertaForSequenceClassification from the checkpoint of a model trained on another task or with another architecture (e.g. initializing a BertForSequenceClassification model from a BertForPreTraining model).\n",
      "- This IS NOT expected if you are initializing RobertaForSequenceClassification from the checkpoint of a model that you expect to be exactly identical (initializing a BertForSequenceClassification model from a BertForSequenceClassification model).\n"
     ]
    },
    {
     "name": "stdout",
     "output_type": "stream",
     "text": [
      "+-----------------------------------+---------+\n",
      "| Metric                            | Value   |\n",
      "+===================================+=========+\n",
      "| Total Attacked Examples           | 20      |\n",
      "+-----------------------------------+---------+\n",
      "| Successful Adversarial Attacks    | 19      |\n",
      "+-----------------------------------+---------+\n",
      "| Recovered After Purification      | 14      |\n",
      "+-----------------------------------+---------+\n",
      "| Model Accuracy After Attack       | 5.00%   |\n",
      "+-----------------------------------+---------+\n",
      "| Model Accuracy After Purification | 75.00%  |\n",
      "+-----------------------------------+---------+\n",
      "| Purification Recovery Rate        | 73.68%  |\n",
      "+-----------------------------------+---------+\n",
      "\n",
      "=== Running: TEXTFOOLER for ROBERTA on SST2 ===\n"
     ]
    },
    {
     "name": "stderr",
     "output_type": "stream",
     "text": [
      "/home/sitare/anaconda3/lib/python3.9/site-packages/huggingface_hub/file_download.py:1150: FutureWarning: `resume_download` is deprecated and will be removed in version 1.0.0. Downloads always resume when possible. If you want to force a new download, use `force_download=True`.\n",
      "  warnings.warn(\n",
      "Some weights of the model checkpoint at textattack/roberta-base-SST-2 were not used when initializing RobertaForSequenceClassification: ['roberta.pooler.dense.bias', 'roberta.pooler.dense.weight']\n",
      "- This IS expected if you are initializing RobertaForSequenceClassification from the checkpoint of a model trained on another task or with another architecture (e.g. initializing a BertForSequenceClassification model from a BertForPreTraining model).\n",
      "- This IS NOT expected if you are initializing RobertaForSequenceClassification from the checkpoint of a model that you expect to be exactly identical (initializing a BertForSequenceClassification model from a BertForSequenceClassification model).\n"
     ]
    },
    {
     "name": "stdout",
     "output_type": "stream",
     "text": [
      "+-----------------------------------+---------+\n",
      "| Metric                            | Value   |\n",
      "+===================================+=========+\n",
      "| Total Attacked Examples           | 20      |\n",
      "+-----------------------------------+---------+\n",
      "| Successful Adversarial Attacks    | 20      |\n",
      "+-----------------------------------+---------+\n",
      "| Recovered After Purification      | 11      |\n",
      "+-----------------------------------+---------+\n",
      "| Model Accuracy After Attack       | 0.00%   |\n",
      "+-----------------------------------+---------+\n",
      "| Model Accuracy After Purification | 55.00%  |\n",
      "+-----------------------------------+---------+\n",
      "| Purification Recovery Rate        | 55.00%  |\n",
      "+-----------------------------------+---------+\n"
     ]
    }
   ],
   "source": [
    "run_all_evasion_and_purification()"
   ]
  },
  {
   "cell_type": "code",
   "execution_count": null,
   "id": "3cd340fd",
   "metadata": {},
   "outputs": [],
   "source": []
  }
 ],
 "metadata": {
  "kernelspec": {
   "display_name": "textattack-env",
   "language": "python",
   "name": "textattack-env"
  },
  "language_info": {
   "codemirror_mode": {
    "name": "ipython",
    "version": 3
   },
   "file_extension": ".py",
   "mimetype": "text/x-python",
   "name": "python",
   "nbconvert_exporter": "python",
   "pygments_lexer": "ipython3",
   "version": "3.9.12"
  }
 },
 "nbformat": 4,
 "nbformat_minor": 5
}
